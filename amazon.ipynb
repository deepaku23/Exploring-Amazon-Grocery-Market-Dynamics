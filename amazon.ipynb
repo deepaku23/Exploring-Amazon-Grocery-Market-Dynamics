{
  "nbformat": 4,
  "nbformat_minor": 0,
  "metadata": {
    "colab": {
      "provenance": [],
      "gpuType": "T4"
    },
    "kernelspec": {
      "name": "python3",
      "display_name": "Python 3"
    },
    "language_info": {
      "name": "python"
    },
    "accelerator": "GPU"
  },
  "cells": [
    {
      "cell_type": "code",
      "execution_count": null,
      "metadata": {
        "colab": {
          "base_uri": "https://localhost:8080/"
        },
        "id": "_rPHdaYBFthy",
        "outputId": "949d1ce7-46c5-45c0-c05a-1d5da1ce8116"
      },
      "outputs": [
        {
          "output_type": "stream",
          "name": "stdout",
          "text": [
            "Mounted at /content/gdrive/\n"
          ]
        }
      ],
      "source": [
        "from google.colab import drive\n",
        "drive.mount('/content/gdrive/')"
      ]
    },
    {
      "cell_type": "code",
      "source": [
        "%cd /content/gdrive/MyDrive"
      ],
      "metadata": {
        "colab": {
          "base_uri": "https://localhost:8080/"
        },
        "id": "SKbqBeuDGCip",
        "outputId": "5732b61c-c59d-4e73-d923-bba27fae2bdb"
      },
      "execution_count": null,
      "outputs": [
        {
          "output_type": "stream",
          "name": "stdout",
          "text": [
            "/content/gdrive/MyDrive\n"
          ]
        }
      ]
    },
    {
      "cell_type": "code",
      "source": [
        "import os\n",
        "if not os.path.isdir(\"amazon_new_1\"):\n",
        "  os.makedirs(\"amazon_new_1\")"
      ],
      "metadata": {
        "id": "13E9_vqAGHhW"
      },
      "execution_count": null,
      "outputs": []
    },
    {
      "cell_type": "code",
      "source": [
        "%cd amazon_new_1"
      ],
      "metadata": {
        "colab": {
          "base_uri": "https://localhost:8080/"
        },
        "id": "YPaOYrJYGkoy",
        "outputId": "daf129e6-da82-425a-e537-9e618633ae4e"
      },
      "execution_count": null,
      "outputs": [
        {
          "output_type": "stream",
          "name": "stdout",
          "text": [
            "/content/gdrive/MyDrive/amazon_new_1\n"
          ]
        }
      ]
    },
    {
      "cell_type": "code",
      "source": [
        "dataset_file = \"/content/gdrive/MyDrive/amazon_new_1/dataset_new.txt\""
      ],
      "metadata": {
        "id": "1tC-00x7HWPC"
      },
      "execution_count": null,
      "outputs": []
    },
    {
      "cell_type": "code",
      "source": [
        "!pip install gpt-2-simple"
      ],
      "metadata": {
        "colab": {
          "base_uri": "https://localhost:8080/"
        },
        "id": "gTGM7y90Kf60",
        "outputId": "6da2d3d9-76c3-45d0-f582-04469e0fbda2"
      },
      "execution_count": null,
      "outputs": [
        {
          "output_type": "stream",
          "name": "stdout",
          "text": [
            "Collecting gpt-2-simple\n",
            "  Downloading gpt_2_simple-0.8.1.tar.gz (26 kB)\n",
            "  Preparing metadata (setup.py) ... \u001b[?25l\u001b[?25hdone\n",
            "Requirement already satisfied: tensorflow>=2.5.1 in /usr/local/lib/python3.10/dist-packages (from gpt-2-simple) (2.13.0)\n",
            "Requirement already satisfied: regex in /usr/local/lib/python3.10/dist-packages (from gpt-2-simple) (2023.6.3)\n",
            "Requirement already satisfied: requests in /usr/local/lib/python3.10/dist-packages (from gpt-2-simple) (2.31.0)\n",
            "Requirement already satisfied: tqdm in /usr/local/lib/python3.10/dist-packages (from gpt-2-simple) (4.66.1)\n",
            "Requirement already satisfied: numpy in /usr/local/lib/python3.10/dist-packages (from gpt-2-simple) (1.23.5)\n",
            "Collecting toposort (from gpt-2-simple)\n",
            "  Downloading toposort-1.10-py3-none-any.whl (8.5 kB)\n",
            "Requirement already satisfied: absl-py>=1.0.0 in /usr/local/lib/python3.10/dist-packages (from tensorflow>=2.5.1->gpt-2-simple) (1.4.0)\n",
            "Requirement already satisfied: astunparse>=1.6.0 in /usr/local/lib/python3.10/dist-packages (from tensorflow>=2.5.1->gpt-2-simple) (1.6.3)\n",
            "Requirement already satisfied: flatbuffers>=23.1.21 in /usr/local/lib/python3.10/dist-packages (from tensorflow>=2.5.1->gpt-2-simple) (23.5.26)\n",
            "Requirement already satisfied: gast<=0.4.0,>=0.2.1 in /usr/local/lib/python3.10/dist-packages (from tensorflow>=2.5.1->gpt-2-simple) (0.4.0)\n",
            "Requirement already satisfied: google-pasta>=0.1.1 in /usr/local/lib/python3.10/dist-packages (from tensorflow>=2.5.1->gpt-2-simple) (0.2.0)\n",
            "Requirement already satisfied: grpcio<2.0,>=1.24.3 in /usr/local/lib/python3.10/dist-packages (from tensorflow>=2.5.1->gpt-2-simple) (1.57.0)\n",
            "Requirement already satisfied: h5py>=2.9.0 in /usr/local/lib/python3.10/dist-packages (from tensorflow>=2.5.1->gpt-2-simple) (3.9.0)\n",
            "Requirement already satisfied: keras<2.14,>=2.13.1 in /usr/local/lib/python3.10/dist-packages (from tensorflow>=2.5.1->gpt-2-simple) (2.13.1)\n",
            "Requirement already satisfied: libclang>=13.0.0 in /usr/local/lib/python3.10/dist-packages (from tensorflow>=2.5.1->gpt-2-simple) (16.0.6)\n",
            "Requirement already satisfied: opt-einsum>=2.3.2 in /usr/local/lib/python3.10/dist-packages (from tensorflow>=2.5.1->gpt-2-simple) (3.3.0)\n",
            "Requirement already satisfied: packaging in /usr/local/lib/python3.10/dist-packages (from tensorflow>=2.5.1->gpt-2-simple) (23.1)\n",
            "Requirement already satisfied: protobuf!=4.21.0,!=4.21.1,!=4.21.2,!=4.21.3,!=4.21.4,!=4.21.5,<5.0.0dev,>=3.20.3 in /usr/local/lib/python3.10/dist-packages (from tensorflow>=2.5.1->gpt-2-simple) (3.20.3)\n",
            "Requirement already satisfied: setuptools in /usr/local/lib/python3.10/dist-packages (from tensorflow>=2.5.1->gpt-2-simple) (67.7.2)\n",
            "Requirement already satisfied: six>=1.12.0 in /usr/local/lib/python3.10/dist-packages (from tensorflow>=2.5.1->gpt-2-simple) (1.16.0)\n",
            "Requirement already satisfied: tensorboard<2.14,>=2.13 in /usr/local/lib/python3.10/dist-packages (from tensorflow>=2.5.1->gpt-2-simple) (2.13.0)\n",
            "Requirement already satisfied: tensorflow-estimator<2.14,>=2.13.0 in /usr/local/lib/python3.10/dist-packages (from tensorflow>=2.5.1->gpt-2-simple) (2.13.0)\n",
            "Requirement already satisfied: termcolor>=1.1.0 in /usr/local/lib/python3.10/dist-packages (from tensorflow>=2.5.1->gpt-2-simple) (2.3.0)\n",
            "Requirement already satisfied: typing-extensions<4.6.0,>=3.6.6 in /usr/local/lib/python3.10/dist-packages (from tensorflow>=2.5.1->gpt-2-simple) (4.5.0)\n",
            "Requirement already satisfied: wrapt>=1.11.0 in /usr/local/lib/python3.10/dist-packages (from tensorflow>=2.5.1->gpt-2-simple) (1.15.0)\n",
            "Requirement already satisfied: tensorflow-io-gcs-filesystem>=0.23.1 in /usr/local/lib/python3.10/dist-packages (from tensorflow>=2.5.1->gpt-2-simple) (0.33.0)\n",
            "Requirement already satisfied: charset-normalizer<4,>=2 in /usr/local/lib/python3.10/dist-packages (from requests->gpt-2-simple) (3.2.0)\n",
            "Requirement already satisfied: idna<4,>=2.5 in /usr/local/lib/python3.10/dist-packages (from requests->gpt-2-simple) (3.4)\n",
            "Requirement already satisfied: urllib3<3,>=1.21.1 in /usr/local/lib/python3.10/dist-packages (from requests->gpt-2-simple) (2.0.4)\n",
            "Requirement already satisfied: certifi>=2017.4.17 in /usr/local/lib/python3.10/dist-packages (from requests->gpt-2-simple) (2023.7.22)\n",
            "Requirement already satisfied: wheel<1.0,>=0.23.0 in /usr/local/lib/python3.10/dist-packages (from astunparse>=1.6.0->tensorflow>=2.5.1->gpt-2-simple) (0.41.2)\n",
            "Requirement already satisfied: google-auth<3,>=1.6.3 in /usr/local/lib/python3.10/dist-packages (from tensorboard<2.14,>=2.13->tensorflow>=2.5.1->gpt-2-simple) (2.17.3)\n",
            "Requirement already satisfied: google-auth-oauthlib<1.1,>=0.5 in /usr/local/lib/python3.10/dist-packages (from tensorboard<2.14,>=2.13->tensorflow>=2.5.1->gpt-2-simple) (1.0.0)\n",
            "Requirement already satisfied: markdown>=2.6.8 in /usr/local/lib/python3.10/dist-packages (from tensorboard<2.14,>=2.13->tensorflow>=2.5.1->gpt-2-simple) (3.4.4)\n",
            "Requirement already satisfied: tensorboard-data-server<0.8.0,>=0.7.0 in /usr/local/lib/python3.10/dist-packages (from tensorboard<2.14,>=2.13->tensorflow>=2.5.1->gpt-2-simple) (0.7.1)\n",
            "Requirement already satisfied: werkzeug>=1.0.1 in /usr/local/lib/python3.10/dist-packages (from tensorboard<2.14,>=2.13->tensorflow>=2.5.1->gpt-2-simple) (2.3.7)\n",
            "Requirement already satisfied: cachetools<6.0,>=2.0.0 in /usr/local/lib/python3.10/dist-packages (from google-auth<3,>=1.6.3->tensorboard<2.14,>=2.13->tensorflow>=2.5.1->gpt-2-simple) (5.3.1)\n",
            "Requirement already satisfied: pyasn1-modules>=0.2.1 in /usr/local/lib/python3.10/dist-packages (from google-auth<3,>=1.6.3->tensorboard<2.14,>=2.13->tensorflow>=2.5.1->gpt-2-simple) (0.3.0)\n",
            "Requirement already satisfied: rsa<5,>=3.1.4 in /usr/local/lib/python3.10/dist-packages (from google-auth<3,>=1.6.3->tensorboard<2.14,>=2.13->tensorflow>=2.5.1->gpt-2-simple) (4.9)\n",
            "Requirement already satisfied: requests-oauthlib>=0.7.0 in /usr/local/lib/python3.10/dist-packages (from google-auth-oauthlib<1.1,>=0.5->tensorboard<2.14,>=2.13->tensorflow>=2.5.1->gpt-2-simple) (1.3.1)\n",
            "Requirement already satisfied: MarkupSafe>=2.1.1 in /usr/local/lib/python3.10/dist-packages (from werkzeug>=1.0.1->tensorboard<2.14,>=2.13->tensorflow>=2.5.1->gpt-2-simple) (2.1.3)\n",
            "Requirement already satisfied: pyasn1<0.6.0,>=0.4.6 in /usr/local/lib/python3.10/dist-packages (from pyasn1-modules>=0.2.1->google-auth<3,>=1.6.3->tensorboard<2.14,>=2.13->tensorflow>=2.5.1->gpt-2-simple) (0.5.0)\n",
            "Requirement already satisfied: oauthlib>=3.0.0 in /usr/local/lib/python3.10/dist-packages (from requests-oauthlib>=0.7.0->google-auth-oauthlib<1.1,>=0.5->tensorboard<2.14,>=2.13->tensorflow>=2.5.1->gpt-2-simple) (3.2.2)\n",
            "Building wheels for collected packages: gpt-2-simple\n",
            "  Building wheel for gpt-2-simple (setup.py) ... \u001b[?25l\u001b[?25hdone\n",
            "  Created wheel for gpt-2-simple: filename=gpt_2_simple-0.8.1-py3-none-any.whl size=24557 sha256=46fea654ef3926dd70792a10969fb02acdd547b2902fd6f1eabe640d15f55e89\n",
            "  Stored in directory: /root/.cache/pip/wheels/df/6a/fe/10d3223f78d1ac3e4c83bb4c5e2d28dfb1789c2fb4cc7ea8d0\n",
            "Successfully built gpt-2-simple\n",
            "Installing collected packages: toposort, gpt-2-simple\n",
            "Successfully installed gpt-2-simple-0.8.1 toposort-1.10\n"
          ]
        }
      ]
    },
    {
      "cell_type": "code",
      "source": [
        "import gpt_2_simple as gpt2\n",
        "from datetime import datetime"
      ],
      "metadata": {
        "id": "UkQc1HGSKlJ6"
      },
      "execution_count": null,
      "outputs": []
    },
    {
      "cell_type": "code",
      "source": [
        "model_name = \"124M\"\n",
        "gpt2.download_gpt2(model_name=model_name)"
      ],
      "metadata": {
        "colab": {
          "base_uri": "https://localhost:8080/"
        },
        "id": "VuI0bsjrKoyA",
        "outputId": "bd9612f9-f930-480d-b500-4003278f22c7"
      },
      "execution_count": null,
      "outputs": [
        {
          "output_type": "stream",
          "name": "stderr",
          "text": [
            "Fetching checkpoint: 1.05Mit [00:00, 4.16Git/s]                                                     \n",
            "Fetching encoder.json: 1.05Mit [00:01, 581kit/s]\n",
            "Fetching hparams.json: 1.05Mit [00:00, 2.17Git/s]                                                   \n",
            "Fetching model.ckpt.data-00000-of-00001: 498Mit [00:57, 8.64Mit/s]\n",
            "Fetching model.ckpt.index: 1.05Mit [00:00, 2.66Git/s]                                               \n",
            "Fetching model.ckpt.meta: 1.05Mit [00:01, 867kit/s]\n",
            "Fetching vocab.bpe: 1.05Mit [00:01, 870kit/s]\n"
          ]
        }
      ]
    },
    {
      "cell_type": "code",
      "source": [
        "sess = gpt2.start_tf_sess()\n",
        "gpt2.finetune(sess,\n",
        "              dataset_file,\n",
        "              model_name=model_name,\n",
        "              steps=100,  # Adjust the number of steps based on your dataset size and computing resources\n",
        "              run_name='run1',\n",
        "              print_every=10,\n",
        "              sample_every=20  # Generate a sample every 20 steps\n",
        "              )"
      ],
      "metadata": {
        "colab": {
          "base_uri": "https://localhost:8080/"
        },
        "id": "KuCKMJa3K3cp",
        "outputId": "36d3d18d-4616-46b7-8c89-dc9cdfd0ba98"
      },
      "execution_count": null,
      "outputs": [
        {
          "output_type": "stream",
          "name": "stdout",
          "text": [
            "Loading checkpoint models/124M/model.ckpt\n",
            "Loading dataset...\n"
          ]
        },
        {
          "output_type": "stream",
          "name": "stderr",
          "text": [
            "100%|██████████| 1/1 [00:01<00:00,  1.37s/it]\n"
          ]
        },
        {
          "output_type": "stream",
          "name": "stdout",
          "text": [
            "dataset has 142950 tokens\n",
            "Training...\n",
            "[10 | 27.96] loss=3.21 avg=3.21\n",
            "[20 | 49.32] loss=3.24 avg=3.23\n",
            "======== SAMPLE 1 ========\n",
            "rozen and Enjoyable Gluten Free Peanuts Snack\n",
            "\n",
            "\n",
            "TODD PESTITUALS - Sourced, Gluten Free, Dairy Free, Vegan and Biscuit-free Fruit - Vegan\n",
            "\n",
            "Candy & Mint Apple Snack and Cinnamon Snack with Mint, Strawberry & Apple Snack with Peach and Fennel Mint Snack - Gluten Free\n",
            "\n",
            "TODD Snacks with Cinnamon Crunch, Cherry & Mint Snack\n",
            "\n",
            "Candy & Mint Apple Snack with Cinnamon Crunch, Cherry & Mint Snack with Apple & Raw Chocolate - Gluten Free\n",
            "\n",
            "Almond-Apple Snacks - Gluten Free and Dairy Free\n",
            "\n",
            "Espresso Snacks - Gluten Free and Dairy Free, Frozen and Refrigerated\n",
            "\n",
            "Apple and Mango Chocolate Crunch Snack | Gluten Free| Dairy Free| Vegan* | Vegan Snacks\n",
            "\n",
            "Almond Mac & Cheese Snacks with Cinnamon Crunch, Cherry & Mint, Raspberry and Peach Snack - Gluten Free\n",
            "\n",
            "Apple & Mint Snacking - Gluten Free, Dairy Free* & Low Carb | Gluten Free + Dairy Free | Vegan\n",
            "\n",
            "Packed Apple Snack with Cinnamon Crunch, Cranberry & Mint, Apple and Honeynut. Gluten Free, Dairy Free, Vegan and Biscuit-free Snack with Pâtisserie Sauce\n",
            "\n",
            "Apple & Mango Crumble Snack | Gluten Free, Dairyfree | Vegan, Gluten Free, Gluten Free | Gluten Free | Vegan | Gluten Free\n",
            "\n",
            "Apple & Pumpkin Roll Snack | Gluten Free, Dairy Free, Gluten Free & Vegan | Vegan Snacks | Gluten Free | Vegan | Gluten Free | Gluten Free | Gluten Free | Dairy Free | Gluten Free | Farm-Friendly Snack | Gluten Free |\n",
            "\n",
            "Whole-Apple Fries | Gluten Free | Vegan | Gluten Free | Gluten Free | Low Carb & Vegan Snack | Dairy Free | Gluten Free | Vegan | Gluten Free | Dairy Free | Vegan | Gluten Free | Gluten Free Snack\n",
            "\n",
            "Apple and Mango Chocolate Snack | Gluten Free | Dairy-free | Vegan | Gluten Free | Gluten Free | Low Carb & Vegan Snack | Dairy Free | Gluten Free Snack | Gluten Free | Dairy-free Snack Snack | Gluten Free | Gluten Free Snack Snack | Gluten Free | Gluten Free Snack\n",
            "\n",
            "Whole-Pears Ice Fries | Gluten Free | Vegan , Vegan & Gluten Free | Gluten Free | Low Carb & Dairy-Free Snack Snacks | Gluten Free | Gluten Free | Gluten Free Snack Snack Snack | Gluten Free | Gluten Free No Gluten Free Snack Snack Snack Snack Snack Snack Snack Snack Snack Snack Snack Snack Snack Snack Snack Snack Snack Snack Snack Snack Snack Snack Snack Snack Snack Snack Snack Snack Snack Snack Snack Snack Snack Snack Snack Snack Snack Snack Snack Snack Snack Snack Snack Snack Snack Snack Snack Snack Snack Snack Snack Snack Snack Snack Snack Snack Snack Snack Snack Snack Snack Snack Snack Snack Snack Snack Snack Snack Snack Snack Snack Snack Snack Snack Snack Snack Snack Snack Snack Snack Snack Snack Snack Snack Snack Snack Snack Snack Snack Snack Snack Snack Snack Snack Snack Snack Snack Snack Snack Snack Snack Snack Snack Snack Snack Snack Snack Snack Snack Snack Snack Snack Snack Snack Snack Snack Snack Snack Snack Snack Snack Snack Snack Grin, Peanut and Peanut Peanuts Snack\n",
            "\n",
            "Apple & Potato Snack | Gluten free | Dairy Free | Vegetarians\n",
            "\n",
            "Apple & Apple Crumble Snack | Gluten Free | Dairy Free | Vegan | Gluten Free | Gluten Free | Vegan Snacks | Gluten Free | Gluten Free | Gluten Free | Low Carb | Gluten Free | Farm-Friendly Snack | Gluten Free | Gluten Free | Dairy-free | Gluten Free | Low Carb | Gluten Free | Dairy-free Snack Snack | Gluten Free | Gluten Free | Dairy Free Snack Snack Snack Snack Snack Snack Snack Snack Snack Snack Snack Snack Snack Snack Snack Snack Snack Snack Snack Snack Snack Snack Snack Snack Snack Snack Snack SnackSnack Snack Snack Snack Snack Snack Snack Snack Snack Snack\n",
            "\n",
            "[30 | 84.06] loss=3.08 avg=3.18\n",
            "[40 | 106.48] loss=2.83 avg=3.09\n",
            "======== SAMPLE 1 ========\n",
            "ast 1 x 24-oz Packs of 100g* x 20 x 1kg\n",
            "KANSAS T-SHIRT 6 x 40 PODs\n",
            "KANSAS T-SHIRT X 10 PODS\n",
            "KANSAS T-SHIRT X 20 PACK OF 100-1G (Frozen)\n",
            "KANSAS T-SHIRT X 40 PODS\n",
            "KANSAS T-SHIRT X 15 PACK OF 6 x 1/2kg\n",
            "J.J. Abrams' The Captain (Star Trek II Anniversary Edition) - 100% Frozen Unfiltered, Pack of 6, 12x50g (No Pack Of 1, Total 500 Calories).\n",
            "Disney Infinity 4K Ultimate Multipack - (100% Authentic Frozen Unfiltered)\n",
            "J.J. Abrams' Star Wars Holiday Special - 100% Frozen Unfiltered, Pack of 6, 12x2h (Total 8 Pack Of 5, Total 8 Calories)\n",
            "Odyssey 2 - 20 X 50g Packs\n",
            "J.J. Abrams' The Captain 2 Ultimate Multi Pack Pack - 6x40-1g Packs\n",
            "J.J. Abrams' Star Wars Holiday Special - 100% Frozen Unfiltered, Pack of 6, 12x2h (Total 8 Pack Of 5, Total 8 Calories)\n",
            "The Count Of Monte Cristo - 1 x 12x40g\n",
            "KANSAS T-SHIRT X 10 POD\n",
            "Oodar (Odyssey) | The Captain: The First 100% Frozen Unfiltered | 1.53kg (Pack of 5)\n",
            "J.J. Abrams' The Captain - New World - 100% Frozen Unfiltered, Pack of 6, 12 x 1/2kg\n",
            "DARPA (Journey into Space) T-Shirt 12 Pack of 18 x 100g\n",
            "Disney Infinity Plus T-Shirt XL (J. J Abrams' The Captain: The First Great Filter, Total 6 Different Packes Including 12x2.5kg Pack of 5 x 1 Pack)\n",
            "Disney Infinity 4K Ultimate Deluxe Multi Pack 3x140g\n",
            "1X4 PACKS | 200 Grams (Pack of 8) | Total - 100% Frozen | Total Serves of Frozen (Pack of 4) | Count of Monte Cristo - 100% Frozen Unfiltered | Pack of 12\n",
            "Yoruba - Christmas Christmas Gift | Original Christmas Blue Raspberry, 200g\n",
            "Yoruba - Christmas Christmas Gift - Unfiltered | 80x1kg | Pack of 6\n",
            "Albany and Apple - Christmas Gift Unfiltered - 6x50g\n",
            "1x4 PACKS | 250 g\n",
            "Albany and Apple - Christmas Christmas Gift Unfiltered - 6x250g\n",
            "CASICO 3X8 PACK | 2x10 PACK | Total of 160 PODs | Count of Monte Cristo (Total 2 different Packages)\n",
            "Vaseline Cream & Ginger Ginger Tea - 12 x 150 g Original Tea | 12 x 250g (Pack of 6)\n",
            "Zachary - Christmas Christmas Gift - Original Ginger Tea, 250g\n",
            "CASICO 3X8 PACK | 1x100 | Total of 160 PODs | Count of Monte Cristo | Total Serves of Frozen (Total 2 Different Packages)\n",
            "Albany and Apple - Christmas Christmas Gift | Original Christmas Blue Raspberry, 250 g\n",
            "CASICO 3X100 PACK | 1x250 | Total of 160 PODs | Count of Monte Cristo (Total 2 different Packages)\n",
            "Ginger Tea Latte Original - 2 x 330g\n",
            "Star Wars Christmas Special - Christmas Special | 500g | Count of Santa Claus Xmas Gift\n",
            "Jakarta - Original Christmas Blackberry, 100g - Pack of 8\n",
            "Albany and Apple - Christmas Christmas Gift - Original Ginger Tea, 250 g\n",
            "Apple & Cream - Christmas Christmas Gift - Original Ginger Tea, 250 g\n",
            "Volvic Pressed Vanilla Blend, 8 x 150g\n",
            "Disney Frozen Special Frozen (Pack of 6)\n",
            "Volvic Pressed Vanilla Blend 8 x 150g\n",
            "Frozen - 10 x 80g Total\n",
            "Disney Frozen Special Frozen 2nd Dec | Total 80g Frozen (2 Pack)\n",
            "(Pack of 8) | Count of Monte Cristo - 100% Frozen Unfiltered | Total Serves of Frozen (total 12 Different Packages)\n",
            "1X4 PACKS | 225 g\n",
            "Volvic Pressed Vanilla Blend, 12 x 150g\n",
            "Apple & Blackcurrant - Christmas Special - Original Ginger Tea, 250 g\n",
            "CASICO 4X10 PACK | 6x40G (Total of 180 PODs)\n",
            "Volvic Pressed Vanilla Blend, 12 x 150g\n",
            "Volvic Pressed Vanilla Blend 24x200g\n",
            "Amazon Gift Card Box Gift Cards - 200g (Pack of 12)\n",
            "Volvic T-Shirt, 8 x 90g (Pack of 1)\n",
            "Amazon Gift Card Gift Box Unboxed - 160 g\n",
            "Amazon Gift Card Gift Gift Box Unbox\n",
            "\n",
            "[50 | 140.12] loss=2.74 avg=3.02\n",
            "[60 | 162.16] loss=2.70 avg=2.96\n",
            "======== SAMPLE 1 ========\n",
            " Beans, 500g\n",
            "AquaPure Eco Fairtrade Organic Vegetable Oil Films Selection Box (12 Boxes) 1kg\n",
            "Pumpkin-Free Lemonade and Ice Tea for Vegan - Vegan\n",
            "Aquaculture Organic Organic Vegetable Oil Films - Fruit Free & Whole Milk with Aromas - Organic Oil Filled Instant Tea with No Preservatives\n",
            "Pumpkin Freeze - Pack of 2 (20g)\n",
            "Puree Oven Frozen Freeze Tea - 1kg\n",
            "Vegan Healthy Raw Raw Vegetable Oil, 3 g\n",
            "Taylors of Harrogate Organic Olive Oil Films - Whole Plant Oil, Milk, Oil Free Frozen Pressed Oven with No Artificial Added Sugar/Vitamin D\n",
            "Organic Vegan Raw Vegetable Oil Films Selection Box (12) 1kg\n",
            "Dessert Gift Card Gift Pack With Free Organic Dessert\n",
            "AquaPure Eco Fairtrade Organic Vegetable Oil Films Selection Box (6 Boxes) 1kg\n",
            "Equinox Organic Raw Vegetable Oil Films Selection Box (6 Boxes) 1kg\n",
            "AquaPure Eco Fairtrade Organic Vegetable Oil Films Selection Box (12) 1KG - Raw & Unpasteurised Organic Vegetable Oil Films - Plant Natural, Natural Flavours - Freeze-Dried / Non-Alcoholic Vegetable Films - Whole Plant Oil - Frozen Pressed Original with no Artificial Added Sugar / Vitamin D\n",
            "Puree Oven Frozen Freeze Tea - 1kg\n",
            "Puree oven Frozen Freeze Tea - 5g\n",
            "Organic Raw Vegetable Oil Films Selection Box (6 Boxes) 1kg\n",
            "Dessert Gift Card Gift Set With Free Organic Dessert\n",
            "Oven Free Frozen Frozen Tea - 1kg, Pack Of 6\n",
            "O Vegan Raw Vegetable Oil Films Selection Box (6 Boxes) 1kg\n",
            "Taylors of Harrogate Organic Olive Oil Films - Whole Plant Oil, Milk, Oil Free - Frozen Pressed Oven with No Artificial Added Sugar/Vitamin D\n",
            "AquaPure Eco Fairtrade Organic Vegetable Oil Films Selection Box (12 Boxes) 1kg\n",
            "Equinox Organic Raw Vegetable Oil Films Selection Box (6 Boxes) 1kg\n",
            "Eat Oven Vegan Raw Vegetable Oil Films Pressed Oven with No Artificial Added Sugar/Vitamin D 1kg\n",
            "Taylors of Harrogate Organic Creamy Potato Meat Cutlets - Whole Plant Oil - Frozen Pressed Oven with no Artificial Added Sugar/Vitamin D\n",
            "Pumpkin Free Freeze - 12 x 3kg\n",
            "Puree Oven Frozen Freeze Tea - 1kg\n",
            "AquaPure Eco Fairtrade Organic Vegetable Oil Films Selection Box (8 Boxes) 1kg\n",
            "Taylors of Harrogate Organic Apple & Apple Pie - Whole Plant Oil - Frozen Pressed Oven with no Artificial Added Sugar/Vitamin D\n",
            "Freeze Cook Frozen Pressed Orange with no Gluten - Vegan\n",
            "Dessert Gift Set With Free Organic Mixed Dessert\n",
            "Oven Free Frozen Frozen Freeze Tea - 1kg\n",
            "Jimmys Vegan Sweet Potato Meat Cutlets - Whole Plant Oil - Frozen Pressed Oven with no Artificial Added Sugar/Vitamin D 1kg\n",
            "Equinox Organic Raw Vegetable Oil Films Selection Box (12 Boxes) 1kg\n",
            "Fresh and Easy Vegan Raw Vegetable Oil Filter Pack - Dairy-Free\n",
            "1kg Fresh Raw Vegetable Oil Filter Pack for Raw or Dairy-Free Vegetable Oil Films - Whole Plant Oil Filmers from USDA Organic Raw Plant Oil Free Instant Beanie\n",
            "Organic Vegan Raw Vegetable Oil Filter Pack (6 Boxes)\n",
            "Equinox Organic Raw Vegetable Oil Films Selection Box, Pack of 6\n",
            "AQUAPure Eco Fairtrade Organic Vegetable Oil Films Selection Box (9 Boxes)\n",
            "AQUA Pure Eco Green Raw Vegetable Oil Films Selection Box (12 Boxes x 6)\n",
            "Fresh & Easy Vegan Raw Vegetable Oil Filter Pack - Dairy-Free\n",
            "Fresh and Easy Vegan Raw Vegetable Oil Filter Pack for Raw or Dairy-Free Vegetable Oil Filters - Whole Plant Oil Fils from USDA Organic Raw Plant Oil Free Instant Beanie\n",
            "Taylors of Harrogate Organic Bean Cutlets - Whole Plant Oil - Frozen Pressed Oven with no Artificial Added Sugar/Vitamin D\n",
            "Fresh and Easy Organic Raw Vegetable Oil Filter Pack for Raw or Dairy-Free Vegetable Oil Filts - Whole Plant Oil Filters from USDA Organic Raw Plant Oil Free Instant Beanie\n",
            "AQUA Pure Eco Fairtrade Organic Vegetable Oil Filter Package, Pack of 6\n",
            "freshfresh vegan raw vegetable olive oil Filter pack with 6 vegan\n",
            "AQUAPure Eco Fairtrade Organic Vegetable Oil Filter Pack - Non-Alcoholic\n",
            "Sustainably Sourced Organic Vegetable Oil Films - Whole Plant Oil from USDA Organic Raw Plant Oil Free Instant Beanie\n",
            "Vegan Raw Raw Raw Vegeter Oil Filter Pack - Dairy-Free\n",
            "\n",
            "\n",
            "[70 | 195.68] loss=2.23 avg=2.86\n",
            "[80 | 217.87] loss=2.51 avg=2.81\n",
            "======== SAMPLE 1 ========\n",
            " 250\n",
            "Shore Dreamer Frozen Puff Pastilles 6 pack (Pack of 6, Total 30 Puff Pastilles)\n",
            "Gutsy Dick & Dandy Spaghetti Burger Fries 8 x 25\n",
            "Jasmine Pâtastes, Vegetarian, 24 Puff/Cheesey Cheese Pouches, Pack of 3\n",
            "Jasmine Pâtastes, Vegetarian, 9 Puff/Cheesey Cheese Pouches, Pack of 3\n",
            "Jimmys Pâtastes, Vegetarian, 3 Boxes of 10 Vegetable Pouches, Pack-A-Punch, Pack of 5, 35% Pork Fat, 100% Chinese, Healthy, 1.5knot\n",
            "Frozen Sausage Rolls - No Substitute Mix - 40 Cuff Swiss Sausages - Sausage Roll - Perfect For Sausage Fries\n",
            "Dunkin' Donuts Churlish Beef, 12 x 200g\n",
            "Vita Coco Instant Hot Chocolate Cake 446g\n",
            "Mighty Mouse Ice Dusted Spaghetti & Dippers Frozen Steak & Mushroom Puff Pastilles 8-pack (48 C/Z)\n",
            "Vita Coco Ice Dusted Puff Pastilles (Pack of 8, Total 48 C/Z)\n",
            "Slush Puppie Cake - Mini Crema Cake - 1 x 80g Slush Puppie Cake\n",
            "Slush Puppie Cake - Mini Crema Cake - 1 x 80g Slush Puppie Cake (3 x)\n",
            "Slush Puppie Cake - Peanut Cake - 1 x 80g Slush Puppie Cake (1 x)\n",
            "Slush Puppie Cake - Chocolate Cake - 1 x 80g Slush Puppie Cake (4 x)\n",
            "Slush Puppie Cake - Peppermint Cake - 1 x 80g Slush Puppie Cake (3 x)\n",
            "Jimmys Pâtastes, Vegetarian 5, Boxes of 3, 80 g\n",
            "Gutsy Dick's Pâtastes, Vegetarian, 12 Puff/Cheesey Cheese Pouches\n",
            "Skull Crusher - The Ultimate Spaghetti Rooibos - Pork and Cheese Pies - Pack of 3 (80 g)\n",
            "HOT TEASIN MOMATO CORTES - SHORTY SCREENSHOT MESSAGE ONLY\n",
            "Mighty Mouse Ice Dusted Spaghetti & Dippers Frozen Ice Rolls - 36 C/Z\n",
            "Slush Puppie Cake - Chocolate Cake - 80 Grains Slush Puppie Cake (1 x)\n",
            "VitasOuts Mozzarella Cheese Pies, 8 x 1.5kg\n",
            "Vita Coco Instant Ice Puff Pies - 6x160g\n",
            "Slush Puppie Cake - Pop Mix - 1 x 40g Slush Puppie Cake (7 x)\n",
            "Swizzels - The World's First Gluten Free Ice Cream Cake - 8 x 250g Carton\n",
            "Tick Tock Frozen Spaghetti Bolognese Pizza Rossets with Bacon (Pack of 6) (140-300g)\n",
            "Slush Puppie Cake - Chocolate Cake - 1 x 20g Slush Puppie Cake (5 x)\n",
            "Slush Puppie Cake - Ice Cream Cake - 80 Grains Slush Puppie Cake (4 x)\n",
            "Slush Puppie Cake - Chocolate Cake - 3x250g Slush Puppie Cake (3 x)\n",
            "Slush Puppie Cake - Baked Pancake - 1 x 40g Slush Puppie Cake (3 x)\n",
            "Frozen Snack Box Frozen Churro Puff Pastilles (8-pack) (50-60g)\n",
            "Vita Coco Instant Ice Puff Pastilles (3 Pack) (Pack of 6)\n",
            "Slush Puppie Cake - Chocolate Cake - 4 x 250g Slush Puppie Cake (5 x)\n",
            "Slush Puppie Cake - Ice Cream Cake - 4 x 300g Slush Puppie Cake (3 x)\n",
            "Slush Puppie Cake - Cake Makers - 3 x 200g\n",
            "Jimmys Pâtastes, Vegetarian, 6, Boxes of 6, 80 g\n",
            "Slush Puppie Cake - Chocolate Cake - 4 x 250g Slush Puppie Cake (5 x)\n",
            "Slush Puppie Cake - Ice Cream Cake - 3 x 200g Slush Puppie Cake (3 x)\n",
            "Slush Puppie Cake - Ice Cream Cake - 3 x 250g Slush Puppie Cake (3 x)\n",
            "Pret Pea Pizza Rossets with Bacon (Pack of 10) (120g)\n",
            "Gutsy Dick's Pâtastes, Vegetarian, 12 Puff/Cheese Pouches, Pack of 5, 160 g\n",
            "Ice Chug - Ice Cream Cake - 12 x 90g Churro Puff Pastilles (30-pack)\n",
            "Slush Puppie Cake\n",
            "Slush Puppie Cake Churro Puff Pastilles\n",
            "Frozen Snack Box Frozen Cherry Snickers Pie\n",
            "\n",
            "[90 | 251.20] loss=2.60 avg=2.79\n",
            "[100 | 273.44] loss=2.25 avg=2.73\n",
            "Saving checkpoint/run1/model-100\n"
          ]
        }
      ]
    },
    {
      "cell_type": "code",
      "source": [
        "generated_text = gpt2.generate(sess,\n",
        "              model_name=model_name,\n",
        "              length=30,  # Adjust the length of the generated text\n",
        "              temperature=0.1,  # Adjust the temperature for randomness (0.7 is a good starting point)\n",
        "              prefix=\"Product Description:\",  # You can change the prefix as needed\n",
        "              nsamples=5,\n",
        "              batch_size=5\n",
        "              )"
      ],
      "metadata": {
        "colab": {
          "base_uri": "https://localhost:8080/"
        },
        "id": "kV9nROjfTEMh",
        "outputId": "ab5e7a77-1853-4442-afed-2edf4191ee09"
      },
      "execution_count": null,
      "outputs": [
        {
          "output_type": "stream",
          "name": "stdout",
          "text": [
            "Product Description:\n",
            "The Original Apple Pie, 100g\n",
            "The Original Apple Pie, 100g\n",
            "The Original Apple Pie, 100g\n",
            "The Original Apple Pie,\n",
            "====================\n",
            "Product Description:\n",
            "The Original Apple Pie, 100% Natural Fruit Flavour, 100g\n",
            "The Original Apple Pie, 100% Natural Fruit Flavour, 100g\n",
            "====================\n",
            "Product Description:\n",
            "The Original Apple Pie, 100% Natural Fruit Flavour, 100g\n",
            "The Original Apple Pie, 100% Natural Fruit Flavour, 100g\n",
            "====================\n",
            "Product Description:\n",
            "The Original Apple Pie, 100% Natural Apple Pie, 100% Natural, Vegan, Gluten Free, Dairy Free, Gluten Free, Gl\n",
            "====================\n",
            "Product Description:\n",
            "The Original Apple Pie, 100% Natural Fruit Juice, 100% Natural, Vegan, Gluten Free, 1.5 Litre\n",
            "The Original\n",
            "====================\n"
          ]
        }
      ]
    },
    {
      "cell_type": "code",
      "source": [
        "# Generate text using the fine-tuned model\n",
        "gen_length = 30  # Adjust the length of the generated text\n",
        "gen_temperature = 0.1  # Adjust the temperature for randomness (0.7 is a good starting point)\n",
        "gen_prefix = \"Product Description:\"  # You can change the prefix as needed\n",
        "gen_samples = 10\n",
        "gen_batch_size = 5\n",
        "\n",
        "# Generate the text\n",
        "generated_text = gpt2.generate(sess,\n",
        "                               model_name=model_name,\n",
        "                               length=gen_length,\n",
        "                               temperature=gen_temperature,\n",
        "                               prefix=gen_prefix,\n",
        "                               nsamples=gen_samples,\n",
        "                               batch_size=gen_batch_size,\n",
        "                               return_as_list=True  # This parameter ensures the text is returned as a list\n",
        "                               )\n",
        "\n",
        "# Join the list of generated texts into a single string\n",
        "generated_text = '\\n'.join(generated_text)"
      ],
      "metadata": {
        "id": "KXQ1m5FCZ1RE"
      },
      "execution_count": null,
      "outputs": []
    },
    {
      "cell_type": "code",
      "source": [
        "gen_file = '/content/gdrive/MyDrive/amazon_new/gpt2_demo.txt'"
      ],
      "metadata": {
        "id": "QcV9olgj1fhM"
      },
      "execution_count": null,
      "outputs": []
    },
    {
      "cell_type": "code",
      "source": [
        "generated_text"
      ],
      "metadata": {
        "colab": {
          "base_uri": "https://localhost:8080/",
          "height": 248
        },
        "id": "aXBKDOOKZ6ua",
        "outputId": "5b67aa24-0d63-4b88-dc6d-cd3a63fe7a02"
      },
      "execution_count": null,
      "outputs": [
        {
          "output_type": "execute_result",
          "data": {
            "text/plain": [
              "'Product Description:\\nThe Original Apple Pie, 100% Natural Fruit Flavour, 100g\\nThe Original Apple Pie, 100% Natural Fruit Flavour, 100g\\nProduct Description:\\nThe Original Apple Pie, 100% Natural Fruit Flavour, 100g\\nThe Original Apple Pie, 100% Natural Fruit Flavour, 100g\\nProduct Description:\\nThe Original Apple Pie, 100% Natural Fruit Flavour, 100g\\nThe Original Apple Pie, 100% Natural Fruit Flavour, 100g\\nProduct Description:\\nThe Original Apple Pie, 100% Natural Fruit Flavour, 100% Natural, Vegan, Gluten Free, Dairy Free, Vegetarian, No\\nProduct Description:\\nThe Original Apple Pie, 100% Natural Fruit Flavour, 100% Natural, Vegan, Gluten Free, Dairy Free, Gluten Free,\\nProduct Description:\\nThe Original Apple Pie, 100% Natural Fruit Flavour, 100g\\nThe Original Apple Pie, 100% Natural Fruit Flavour, 100g\\nProduct Description:\\nThe Original Apple Pie, 100% Natural Fruit Flavour, 100g\\nThe Original Apple Pie, 100% Natural Fruit Flavour, 100g\\nProduct Description:\\nBirds Eye - The Best Quality Organic Herbal Tea - 100% Natural Ingredients - 100% Natural Ingredients - 100% Natural Flavours - 100\\nProduct Description:\\nThe Original Apple Pie, 1.5kg\\nThe Original Apple Pie, 1.5kg\\nThe Original Apple Pie, 1.5kg\\nProduct Description:\\nThe Original Apple Pie, 1.5kg\\nThe Original Apple Pie, 1.5kg\\nThe Original Apple Pie, 1.5kg'"
            ],
            "application/vnd.google.colaboratory.intrinsic+json": {
              "type": "string"
            }
          },
          "metadata": {},
          "execution_count": 17
        }
      ]
    },
    {
      "cell_type": "code",
      "source": [
        "with open(gen_file, \"w\") as file:\n",
        "    file.write(generated_text)  # Repl"
      ],
      "metadata": {
        "id": "GmrGUggIWpOW"
      },
      "execution_count": null,
      "outputs": []
    },
    {
      "cell_type": "code",
      "source": [
        "query = \"Create product details for VIGO Drink only for Apple.\"\n",
        "\n",
        "generated_text = gpt2.generate(sess,\n",
        "                              model_name=model_name,\n",
        "                              length=30,\n",
        "                              temperature=0.1,\n",
        "                              prefix=query,\n",
        "                              nsamples=5,\n",
        "                              batch_size=1)\n",
        "\n",
        "print(generated_text)"
      ],
      "metadata": {
        "colab": {
          "base_uri": "https://localhost:8080/"
        },
        "id": "Pva6Egr1dIp0",
        "outputId": "c212174a-baa8-4312-84b6-e8974656a26d"
      },
      "execution_count": null,
      "outputs": [
        {
          "output_type": "stream",
          "name": "stdout",
          "text": [
            "Create product details for VIGO Drink only for Apple.\n",
            "VIGO Drink Apple and Cinnamon Apple Drink 1 Litre (Pack of 6)\n",
            "VIGO Drink Apple and Cinnamon Apple Drink 1 Lit\n",
            "====================\n",
            "Create product details for VIGO Drink only for Apple.\n",
            "Apple Juice Drink 1.5L x 12\n",
            "Apple Juice Drink 1.5L x 12\n",
            "Apple Juice Drink 1.5L x 12\n",
            "====================\n",
            "Create product details for VIGO Drink only for Apple.\n",
            "VIGO Drink 1.5 Litre (Pack of 6)\n",
            "VIGO Drink Apple Cider Vinegar 1.5L (\n",
            "====================\n",
            "Create product details for VIGO Drink only for Apple.\n",
            "VIGO Drink | Apple and Blackcurrant | Apple & Blackcurrant Flavours | Apple & Blackcurrant Flavours | Apple &\n",
            "====================\n",
            "Create product details for VIGO Drink only for Apple.\n",
            "VIGO Drink Apple and Cinnamon Apple Drink, 1 Litre\n",
            "VIGO Drink Apple and Cinnamon Apple Drink, 1L\n",
            "VIG\n",
            "====================\n",
            "None\n"
          ]
        }
      ]
    },
    {
      "cell_type": "code",
      "source": [
        "query = \"Create product details for Cadbury.\"\n",
        "\n",
        "generated_text = gpt2.generate(sess,\n",
        "                              model_name=model_name,\n",
        "                              length=30,\n",
        "                              temperature=0.1,\n",
        "                              prefix=query,\n",
        "                              nsamples=5,\n",
        "                              batch_size=1)\n",
        "\n",
        "print(generated_text)"
      ],
      "metadata": {
        "colab": {
          "base_uri": "https://localhost:8080/"
        },
        "id": "ydbdL2Nz6u-h",
        "outputId": "c5627b63-52ad-40d1-b433-a2c3aabe8209"
      },
      "execution_count": null,
      "outputs": [
        {
          "output_type": "stream",
          "name": "stdout",
          "text": [
            "Create product details for Cadbury.\n",
            "Cadbury Organic Milk Chocolate Bar, 330g\n",
            "Cadbury Organic Milk Chocolate Bar, 330g\n",
            "Cadbury Organic Milk Chocolate Bar\n",
            "====================\n",
            "Create product details for Cadbury.\n",
            "Cadbury Frozen Chocolate Pudding Mix 1.5kg\n",
            "Cadbury Frozen Chocolate Pudding Mix 1.5kg\n",
            "Cadbury\n",
            "====================\n",
            "Create product details for Cadbury.\n",
            "Cadbury Organic Milk Chocolate Pudding Mix, 250 g\n",
            "Cadbury Organic Milk Chocolate Pudding Mix, 250 g\n",
            "Cadbury\n",
            "====================\n",
            "Create product details for Cadbury.\n",
            "Cadbury Organic Milk Chocolate Bar, 330g\n",
            "Cadbury Organic Milk Chocolate Bar, 330g\n",
            "Cadbury Organic Milk Chocolate Bar\n",
            "====================\n",
            "Create product details for Cadbury.\n",
            "Cadbury Organic Milk Chocolate Truffles, 250 g\n",
            "Cadbury Organic Milk Chocolate Truffles, 250 g\n",
            "Cadbury\n",
            "====================\n",
            "None\n"
          ]
        }
      ]
    },
    {
      "cell_type": "code",
      "source": [
        "query = \"Create product details for Vita.\"\n",
        "\n",
        "generated_text = gpt2.generate(sess,\n",
        "                              model_name=model_name,\n",
        "                              length=30,\n",
        "                              temperature=0.1,\n",
        "                              prefix=query,\n",
        "                              nsamples=5,\n",
        "                              batch_size=1)\n",
        "\n",
        "print(generated_text)"
      ],
      "metadata": {
        "colab": {
          "base_uri": "https://localhost:8080/"
        },
        "id": "Y3HCDec022qb",
        "outputId": "4d1f39d4-b132-4445-fe90-a5c728cffc2d"
      },
      "execution_count": null,
      "outputs": [
        {
          "output_type": "stream",
          "name": "stdout",
          "text": [
            "Create product details for Vita.\n",
            "Lavazza Crema, Organic Herbal Tea, 100 g\n",
            "Lavazza Crema Organic Herbal Tea, 100 g\n",
            "\n",
            "====================\n",
            "Create product details for Vita.\n",
            "Lavazza Crema, Organic Herbal Tea, 100 g\n",
            "Lavazza Crema Organic Herbal Tea, 100 g\n",
            "\n",
            "====================\n",
            "Create product details for Vita.\n",
            "Vita Coco - Coconut Milk - 1L\n",
            "Vita Coco - Coconut Milk - 1L\n",
            "Vita Coco - Coconut Milk - 1L\n",
            "====================\n",
            "Create product details for Vita.\n",
            "Lavazza Crema, Organic Herbal Tea, 100 g\n",
            "Lavazza Crema Organic Herbal Tea, 100 g\n",
            "\n",
            "====================\n",
            "Create product details for Vita.\n",
            "Nescafe Dolce Gusto Dolce Gusto Dolce, Dolce Gusto, Dolce Gusto, Dolce Gusto,\n",
            "====================\n",
            "None\n"
          ]
        }
      ]
    }
  ]
}